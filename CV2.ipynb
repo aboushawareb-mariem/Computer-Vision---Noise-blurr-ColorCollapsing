{
 "cells": [
  {
   "cell_type": "code",
   "execution_count": 1,
   "metadata": {
    "collapsed": true
   },
   "outputs": [],
   "source": [
    "import numpy as np\n",
    "import cv2"
   ]
  },
  {
   "cell_type": "code",
   "execution_count": 2,
   "metadata": {
    "collapsed": true
   },
   "outputs": [],
   "source": [
    "img1 = cv2.imread('/home/mariem/cv assignments/Computer-Vision---Noise-blurr-ColorCollapsing/imagesA2/1.jpg',0)\n",
    "img2 = cv2.imread('/home/mariem/cv assignments/Computer-Vision---Noise-blurr-ColorCollapsing/imagesA2/2.jpg',0)\n",
    "img3 = cv2.imread('/home/mariem/cv assignments/Computer-Vision---Noise-blurr-ColorCollapsing/imagesA2/3.jpg',0)\n",
    "img4 = cv2.imread('/home/mariem/cv assignments/Computer-Vision---Noise-blurr-ColorCollapsing/imagesA2/4.jpg',0)\n",
    "img5 = cv2.imread('/home/mariem/cv assignments/Computer-Vision---Noise-blurr-ColorCollapsing/imagesA2/5.jpg',0)\n",
    "img6 = cv2.imread('/home/mariem/cv assignments/Computer-Vision---Noise-blurr-ColorCollapsing/imagesA2/6.jpg',0)\n",
    "img7 = cv2.imread('/home/mariem/cv assignments/Computer-Vision---Noise-blurr-ColorCollapsing/imagesA2/7.jpg',0)\n",
    "img8 = cv2.imread('/home/mariem/cv assignments/Computer-Vision---Noise-blurr-ColorCollapsing/imagesA2/8.jpg',0)\n",
    "cv2.imshow('image1',img1)\n",
    "cv2.imshow('image2',img2)\n",
    "cv2.imshow('image3',img3)\n",
    "cv2.imshow('image4',img4)\n",
    "cv2.imshow('image5',img5)\n",
    "cv2.imshow('image6',img6)\n",
    "cv2.imshow('image7',img7)\n",
    "cv2.imshow('image8',img8)\n",
    "cv2.waitKey(0)\n",
    "cv2.destroyAllWindows()"
   ]
  },
  {
   "cell_type": "code",
   "execution_count": 3,
   "metadata": {},
   "outputs": [],
   "source": [
    "# _, std1 = cv2.meanStdDev(img1)\n",
    "# _, std2 = cv2.meanStdDev(img2)\n",
    "# _, std3 = cv2.meanStdDev(img3)\n",
    "# _, std4 = cv2.meanStdDev(img4)\n",
    "# _, std5 = cv2.meanStdDev(img5)\n",
    "# _, std6 = cv2.meanStdDev(img6)\n",
    "# _, std7 = cv2.meanStdDev(img7)\n",
    "# _, std8 = cv2.meanStdDev(img8)\n",
    "# print(\"1- \" ,std1**2)\n",
    "# print(\"2- \",std2**2)\n",
    "# print(\"3- \",std3**2)\n",
    "# print(\"4- \",std4**2)\n",
    "# print(\"5- \",std5**2)\n",
    "# print(\"6- \",std6**2)\n",
    "# print(\"7- \",std7**2)\n",
    "# print(\"8- \",std8**2)\n",
    "\n"
   ]
  },
  {
   "cell_type": "code",
   "execution_count": 10,
   "metadata": {},
   "outputs": [
    {
     "name": "stdout",
     "output_type": "stream",
     "text": [
      "True\n"
     ]
    }
   ],
   "source": [
    "def valid(x,y, img):\n",
    "    if(x >= 0 and x < img.shape[0] and y >= 0 and y < img.shape[1]):\n",
    "        return True\n",
    "    else:\n",
    "        return False\n",
    "print(valid(0,0,img1))"
   ]
  },
  {
   "cell_type": "code",
   "execution_count": 20,
   "metadata": {},
   "outputs": [
    {
     "name": "stderr",
     "output_type": "stream",
     "text": [
      "/usr/lib/python3.6/site-packages/ipykernel_launcher.py:12: RuntimeWarning: overflow encountered in ubyte_scalars\n",
      "  if sys.path[0] == '':\n"
     ]
    },
    {
     "name": "stdout",
     "output_type": "stream",
     "text": [
      "35.559809027777774\n"
     ]
    }
   ],
   "source": [
    "#salt and pepper noise function\n",
    "dx = [-1, -1,-1, 0,1,1,0,1]\n",
    "dy = [-1, 0, 1, -1,1,0,1,-1]\n",
    "def pixel_variance(img, threshold):\n",
    "    noise_count = 0;\n",
    "    for i in range (img.shape[0]):\n",
    "        for j in range (img.shape[1]):\n",
    "            acc = img[i,j]\n",
    "            count = 1\n",
    "            for k in range(0,8):\n",
    "                if(valid(i+dx[k],j+dy[k],img)):\n",
    "                    count+=1\n",
    "                    acc+= img[i+dx[k], j+dy[k]]\n",
    "            mean = acc/count\n",
    "            pixel_var = (img[i,j] - mean)\n",
    "            if(pixel_var > threshold):\n",
    "                noise_count+=1\n",
    "    percentage = (noise_count*100)/(img.shape[0]*img.shape[1])\n",
    "    return percentage\n",
    "\n",
    "print(pixel_variance(img1,97))\n",
    "\n"
   ]
  },
  {
   "cell_type": "code",
   "execution_count": 21,
   "metadata": {},
   "outputs": [
    {
     "name": "stderr",
     "output_type": "stream",
     "text": [
      "/usr/lib/python3.6/site-packages/ipykernel_launcher.py:12: RuntimeWarning: overflow encountered in ubyte_scalars\n",
      "  if sys.path[0] == '':\n"
     ]
    },
    {
     "name": "stdout",
     "output_type": "stream",
     "text": [
      "37.48359375\n"
     ]
    }
   ],
   "source": [
    "print(pixel_variance(img2, 97))"
   ]
  },
  {
   "cell_type": "code",
   "execution_count": null,
   "metadata": {
    "collapsed": true
   },
   "outputs": [],
   "source": [
    "#blur function\n"
   ]
  }
 ],
 "metadata": {
  "kernelspec": {
   "display_name": "Python 3",
   "language": "python",
   "name": "python3"
  },
  "language_info": {
   "codemirror_mode": {
    "name": "ipython",
    "version": 3
   },
   "file_extension": ".py",
   "mimetype": "text/x-python",
   "name": "python",
   "nbconvert_exporter": "python",
   "pygments_lexer": "ipython3",
   "version": "3.6.4"
  }
 },
 "nbformat": 4,
 "nbformat_minor": 2
}
