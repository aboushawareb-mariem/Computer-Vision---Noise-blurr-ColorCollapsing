{
 "cells": [
  {
   "cell_type": "code",
   "execution_count": 3,
   "metadata": {
    "collapsed": true
   },
   "outputs": [],
   "source": [
    "import numpy as np\n",
    "import cv2\n",
    "from operator import add"
   ]
  },
  {
   "cell_type": "code",
   "execution_count": 4,
   "metadata": {
    "collapsed": true
   },
   "outputs": [],
   "source": [
    "path1='/home/mariem/cv assignments/Computer-Vision---Noise-blurr-ColorCollapsing';\n",
    "path2='/home/youmna/computer Vision/Assignment_2'\n",
    "img1 = cv2.imread(path1+'/imagesA2/1.jpg',0)\n",
    "img2 = cv2.imread(path1+'/imagesA2/2.jpg',0)\n",
    "img3 = cv2.imread(path1+'/imagesA2/3.jpg',0)\n",
    "img4 = cv2.imread(path1+'/imagesA2/4.jpg',0)\n",
    "img5 = cv2.imread(path1+'/imagesA2/5.jpg',0)\n",
    "img6 = cv2.imread(path1+'/imagesA2/6.jpg',0)\n",
    "img7 = cv2.imread(path1+'/imagesA2/7.jpg',0)\n",
    "img8 = cv2.imread(path1+'/imagesA2/8.jpg',0)\n",
    "# cv2.imshow('image1',img1)\n",
    "# cv2.imshow('image2',img2)\n",
    "# cv2.imshow('image3',img3)\n",
    "# cv2.imshow('image4',img4)\n",
    "# cv2.imshow('image5',img5)\n",
    "# cv2.imshow('image6',img6)\n",
    "# cv2.imshow('image7',img7)\n",
    "# cv2.imshow('image8',img8)\n",
    "# cv2.waitKey(0)\n",
    "# cv2.destroyAllWindows()"
   ]
  },
  {
   "cell_type": "code",
   "execution_count": 6,
   "metadata": {
    "collapsed": true
   },
   "outputs": [],
   "source": [
    "# _, std1 = cv2.meanStdDev(img1)\n",
    "# _, std2 = cv2.meanStdDev(img2)\n",
    "# _, std3 = cv2.meanStdDev(img3)\n",
    "# _, std4 = cv2.meanStdDev(img4)\n",
    "# _, std5 = cv2.meanStdDev(img5)\n",
    "# _, std6 = cv2.meanStdDev(img6)\n",
    "# _, std7 = cv2.meanStdDev(img7)\n",
    "# _, std8 = cv2.meanStdDev(img8)\n",
    "# print(\"1- \" ,std1**2)\n",
    "# print(\"2- \",std2**2)\n",
    "# print(\"3- \",std3**2)\n",
    "# print(\"4- \",std4**2)\n",
    "# print(\"5- \",std5**2)\n",
    "# print(\"6- \",std6**2)\n",
    "# print(\"7- \",std7**2)\n",
    "# print(\"8- \",std8**2)\n",
    "\n"
   ]
  },
  {
   "cell_type": "code",
   "execution_count": 4,
   "metadata": {},
   "outputs": [
    {
     "name": "stdout",
     "output_type": "stream",
     "text": [
      "True\n"
     ]
    }
   ],
   "source": [
    "def valid(x,y, img):\n",
    "    if(x >= 0 and x < img.shape[0] and y >= 0 and y < img.shape[1]):\n",
    "        return True\n",
    "    else:\n",
    "        return False\n",
    "print(valid(0,0,img1))\n"
   ]
  },
  {
   "cell_type": "code",
   "execution_count": 5,
   "metadata": {},
   "outputs": [
    {
     "name": "stdout",
     "output_type": "stream",
     "text": [
      "calculating variance.\n"
     ]
    },
    {
     "name": "stderr",
     "output_type": "stream",
     "text": [
      "/usr/lib/python3.6/site-packages/ipykernel_launcher.py:14: RuntimeWarning: overflow encountered in ubyte_scalars\n",
      "  \n"
     ]
    },
    {
     "ename": "KeyboardInterrupt",
     "evalue": "",
     "output_type": "error",
     "traceback": [
      "\u001b[0;31m---------------------------------------------------------------------------\u001b[0m",
      "\u001b[0;31mKeyboardInterrupt\u001b[0m                         Traceback (most recent call last)",
      "\u001b[0;32m<ipython-input-5-127346fec28e>\u001b[0m in \u001b[0;36m<module>\u001b[0;34m()\u001b[0m\n\u001b[1;32m     24\u001b[0m     \u001b[0;32mreturn\u001b[0m \u001b[0mpercentage\u001b[0m\u001b[0;34m\u001b[0m\u001b[0m\n\u001b[1;32m     25\u001b[0m \u001b[0;34m\u001b[0m\u001b[0m\n\u001b[0;32m---> 26\u001b[0;31m \u001b[0mprint\u001b[0m\u001b[0;34m(\u001b[0m\u001b[0mpixel_variance\u001b[0m\u001b[0;34m(\u001b[0m\u001b[0mimg1\u001b[0m\u001b[0;34m,\u001b[0m\u001b[0;36m200\u001b[0m\u001b[0;34m)\u001b[0m\u001b[0;34m)\u001b[0m\u001b[0;34m\u001b[0m\u001b[0m\n\u001b[0m",
      "\u001b[0;32m<ipython-input-5-127346fec28e>\u001b[0m in \u001b[0;36mpixel_variance\u001b[0;34m(img, threshold)\u001b[0m\n\u001b[1;32m     14\u001b[0m                     \u001b[0macc\u001b[0m\u001b[0;34m+=\u001b[0m \u001b[0mimg\u001b[0m\u001b[0;34m[\u001b[0m\u001b[0mi\u001b[0m\u001b[0;34m+\u001b[0m\u001b[0mdx\u001b[0m\u001b[0;34m[\u001b[0m\u001b[0mk\u001b[0m\u001b[0;34m]\u001b[0m\u001b[0;34m,\u001b[0m \u001b[0mj\u001b[0m\u001b[0;34m+\u001b[0m\u001b[0mdy\u001b[0m\u001b[0;34m[\u001b[0m\u001b[0mk\u001b[0m\u001b[0;34m]\u001b[0m\u001b[0;34m]\u001b[0m\u001b[0;34m\u001b[0m\u001b[0m\n\u001b[1;32m     15\u001b[0m             \u001b[0mmean\u001b[0m \u001b[0;34m=\u001b[0m \u001b[0macc\u001b[0m\u001b[0;34m/\u001b[0m\u001b[0mcount\u001b[0m\u001b[0;34m\u001b[0m\u001b[0m\n\u001b[0;32m---> 16\u001b[0;31m             \u001b[0mpixel_var\u001b[0m \u001b[0;34m=\u001b[0m \u001b[0;34m(\u001b[0m\u001b[0mimg\u001b[0m\u001b[0;34m[\u001b[0m\u001b[0mi\u001b[0m\u001b[0;34m,\u001b[0m\u001b[0mj\u001b[0m\u001b[0;34m]\u001b[0m \u001b[0;34m-\u001b[0m \u001b[0mmean\u001b[0m\u001b[0;34m)\u001b[0m\u001b[0;34m**\u001b[0m\u001b[0;36m2\u001b[0m\u001b[0;34m\u001b[0m\u001b[0m\n\u001b[0m\u001b[1;32m     17\u001b[0m             \u001b[0;31m#print(pixel_var)\u001b[0m\u001b[0;34m\u001b[0m\u001b[0;34m\u001b[0m\u001b[0m\n\u001b[1;32m     18\u001b[0m             \u001b[0;32mif\u001b[0m\u001b[0;34m(\u001b[0m\u001b[0mpixel_var\u001b[0m \u001b[0;34m>\u001b[0m \u001b[0mthreshold\u001b[0m\u001b[0;34m**\u001b[0m\u001b[0;36m2\u001b[0m\u001b[0;34m)\u001b[0m\u001b[0;34m:\u001b[0m\u001b[0;34m\u001b[0m\u001b[0m\n",
      "\u001b[0;31mKeyboardInterrupt\u001b[0m: "
     ]
    }
   ],
   "source": [
    "#salt and pepper noise function\n",
    "dx = [-1, -1,-1, 0,1,1,0,1]\n",
    "dy = [-1, 0, 1, -1,1,0,1,-1]\n",
    "def pixel_variance(img, threshold):\n",
    "    noise_count = 0;\n",
    "    print(\"calculating variance.\")\n",
    "    for i in range (img.shape[0]):\n",
    "        for j in range (img.shape[1]):\n",
    "            acc = img[i,j]\n",
    "            count = 1\n",
    "            for k in range(0,8):\n",
    "                if(valid(i+dx[k],j+dy[k],img)):\n",
    "                    count+=1\n",
    "                    acc+= img[i+dx[k], j+dy[k]]\n",
    "            mean = acc/count\n",
    "            pixel_var = (img[i,j] - mean)**2\n",
    "            #print(pixel_var)\n",
    "            if(pixel_var > threshold**2):\n",
    "                noise_count+=1\n",
    "             \n",
    "    percentage = (noise_count*100)/(img.shape[0]*img.shape[1])\n",
    "    print(noise_count)  \n",
    "    print(\"Size\",(img.shape[0]*img.shape[1]))    \n",
    "    return percentage\n",
    "\n",
    "print(pixel_variance(img1,200))"
   ]
  },
  {
   "cell_type": "code",
   "execution_count": null,
   "metadata": {
    "collapsed": true
   },
   "outputs": [],
   "source": [
    "\n",
    "print(pixel_variance(img2, 200))"
   ]
  },
  {
   "cell_type": "code",
   "execution_count": 37,
   "metadata": {},
   "outputs": [
    {
     "name": "stdout",
     "output_type": "stream",
     "text": [
      "41.83901909722222\n"
     ]
    }
   ],
   "source": [
    "#blur function\n",
    "\n",
    "#absolute\n",
    "def absolutely(sobel):\n",
    "    result = []\n",
    "    for i in sobel:\n",
    "        result.append(list(map(abs, i)))\n",
    "    return np.array(result)\n",
    "\n",
    "#summing lists of lists\n",
    "def add_dem_lists(x,y):\n",
    "    result = []\n",
    "    for i in range(len(x)):\n",
    "        tmp = []\n",
    "        for j in range(len(x[i])):\n",
    "            tmp.append(x[i][j]+y[i][j])\n",
    "        result.append(tmp)\n",
    "    return np.array(result)\n",
    "\n",
    "\n",
    "\n",
    "sobel_horizontal = cv2.Sobel(img2, cv2.CV_64F, 1, 0, ksize=5)\n",
    "sobel_vertical = cv2.Sobel(img2, cv2.CV_64F, 0, 1, ksize=5)\n",
    "\n",
    "\n",
    "\n",
    "\n",
    "def blur_detection(img, threshold):\n",
    "    blur_count = 0\n",
    "    percentage = 0\n",
    "    sobel_horizontal = cv2.Sobel(img, cv2.CV_64F, 1, 0, ksize=5)\n",
    "    sobel_vertical = cv2.Sobel(img, cv2.CV_64F, 0, 1, ksize=5)\n",
    "    horz_abs = absolutely(sobel_horizontal)\n",
    "    vert_abs = absolutely(sobel_vertical)\n",
    "    result = add_dem_lists(horz_abs, vert_abs)\n",
    "    for i in result:\n",
    "        for j in i:\n",
    "            if(j > threshold):\n",
    "                blur_count+=1\n",
    "    percentage = (blur_count*100)/(img.shape[0]*img.shape[1])\n",
    "    return percentage\n",
    "    \n",
    "print(blur_detection(img1,1000))\n",
    "    \n",
    "\n",
    "# print(\"hey\")\n",
    "#print(sobel_horizontal)\n",
    "# print(\"hey\")\n",
    "# print(absolutely(sobel_horizontal))\n",
    "#print(absolutely(sobel_horizontal).shape)"
   ]
  },
  {
   "cell_type": "code",
   "execution_count": 69,
   "metadata": {},
   "outputs": [
    {
     "data": {
      "text/plain": [
       "True"
      ]
     },
     "execution_count": 69,
     "metadata": {},
     "output_type": "execute_result"
    }
   ],
   "source": [
    "#blur correction\n",
    "from scipy.ndimage.filters import median_filter\n",
    "from scipy import ndimage\n",
    "#first try\n",
    "# gaussian_3 = cv2.GaussianBlur(img3, (9,9), 10.0)\n",
    "# unsharp_image = cv2.addWeighted(img3, 1.5, gaussian_3, -0.5, 0, img3)\n",
    "# cv2.imwrite(\"lenna_unsharp.jpg\", unsharp_image)\n",
    "\n",
    "#second try\n",
    "# Median filtering\n",
    "gray_image_mf = median_filter(img3, 1)\n",
    "cv2.imwrite(\"median.jpg\", gray_image_mf)\n",
    "\n",
    "# Calculate the Laplacian\n",
    "lap = cv2.Laplacian(gray_image_mf,cv2.CV_64F)\n",
    "\n",
    "# Calculate the sharpened image\n",
    "sharp = gray_image_mf - 0.2*lap\n",
    "\n",
    "cv2.imwrite(\"whatUp.jpg\", sharp)\n",
    "\n",
    "# blurred_f = ndimage.gaussian_filter(img3, 3)\n",
    "\n",
    "# filter_blurred_f = ndimage.gaussian_filter(blurred_f, 1)\n",
    "\n",
    "# alpha = 30\n",
    "# sharpened = blurred_f + alpha * (blurred_f - filter_blurred_f)\n",
    "# cv2.imwrite(\"duuude.jpg\", sharpened)"
   ]
  },
  {
   "cell_type": "code",
   "execution_count": 5,
   "metadata": {
    "collapsed": true
   },
   "outputs": [],
   "source": [
    "#Correction:\n",
    "# 1- Noise Correction\n",
    "\n",
    "def noiseCorrection(correctedImgName,img):\n",
    "    \n",
    "    \n",
    "    print(\"in noise correction\")\n",
    "    height=img.shape[0]\n",
    "    width=img.shape[1]\n",
    "    blank_img = img\n",
    "    acc=0\n",
    "  \n",
    "    median=[]\n",
    "    for i in range (img.shape[0]):\n",
    "        for j in range (img.shape[1]):\n",
    "            median=[]                   \n",
    "            median.append(img[i,j])\n",
    "            \n",
    "            for k in range(0,len(dx)):\n",
    "                curX=i+dx[k]\n",
    "                curY=j+dy[k]\n",
    "                if(valid(curX,curY,img)):\n",
    "                    median.append(img[curX,curY])\n",
    "                    \n",
    "            median.sort()\n",
    "            if(len(median)%2!=0):\n",
    "                img[i,j]=median[len(median)/2]\n",
    "            else:\n",
    "                val = (median[len(median)/2]+median[len(median)/2]-1)/2\n",
    "                img[i,j]=val\n",
    "                \n",
    "            \n",
    "            \n",
    "    print(\"after\")\n",
    "    cv2.imshow(\"Corrected img\", img)\n",
    "    cv2.imwrite(correctedImgName,img) \n",
    "    cv2.waitKey(0)\n",
    "    cv2.destroyAllWindows()\n",
    "    \n",
    "         "
   ]
  },
  {
   "cell_type": "code",
   "execution_count": 6,
   "metadata": {
    "scrolled": true
   },
   "outputs": [
    {
     "name": "stdout",
     "output_type": "stream",
     "text": [
      "in noise correction\n"
     ]
    },
    {
     "name": "stderr",
     "output_type": "stream",
     "text": [
      "/usr/local/lib/python2.7/dist-packages/ipykernel_launcher.py:29: RuntimeWarning: overflow encountered in ubyte_scalars\n"
     ]
    },
    {
     "name": "stdout",
     "output_type": "stream",
     "text": [
      "after\n"
     ]
    }
   ],
   "source": [
    "# noiseCorrection(path2+'/imagesA2/img2NoiseCorrected.png',img2)   \n",
    "# noiseCorrection(path2+'/imagesA2/img3NoiseCorrected.png',img3)   \n",
    "# noiseCorrection(path2+'/imagesA2/img4NoiseCorrected.png',img4)   \n",
    "# noiseCorrection(path2+'/imagesA2/img5NoiseCorrected.png',img5)   \n",
    "# noiseCorrection(path2+'/imagesA2/img6NoiseCorrected.png',img6)  \n",
    "# noiseCorrection(path2+'/imagesA2/img7NoiseCorrected.png',img7)\n",
    "# noiseCorrection(path2+'/imagesA2/img8NoiseCorrected.png',img8)   "
   ]
  },
  {
   "cell_type": "code",
   "execution_count": null,
   "metadata": {
    "collapsed": true
   },
   "outputs": [],
   "source": []
  },
  {
   "cell_type": "code",
   "execution_count": null,
   "metadata": {
    "collapsed": true
   },
   "outputs": [],
   "source": []
  }
 ],
 "metadata": {
  "kernelspec": {
   "display_name": "Python 3",
   "language": "python",
   "name": "python3"
  },
  "language_info": {
   "codemirror_mode": {
    "name": "ipython",
    "version": 3
   },
   "file_extension": ".py",
   "mimetype": "text/x-python",
   "name": "python",
   "nbconvert_exporter": "python",
   "pygments_lexer": "ipython3",
   "version": "3.6.4"
  }
 },
 "nbformat": 4,
 "nbformat_minor": 2
}
