{
 "cells": [
  {
   "cell_type": "code",
   "execution_count": 4,
   "metadata": {},
   "outputs": [],
   "source": [
    "import numpy as np\n",
    "import cv2"
   ]
  },
  {
   "cell_type": "code",
   "execution_count": 5,
   "metadata": {},
   "outputs": [],
   "source": [
    "path1='/home/mariem/cv assignments/Computer-Vision---Noise-blurr-ColorCollapsing';\n",
    "path2='/home/youmna/computer Vision/Assignment_2'\n",
    "img1 = cv2.imread(path2+'/imagesA2/1.jpg',0)\n",
    "img2 = cv2.imread(path2+'/imagesA2/2.jpg',0)\n",
    "img3 = cv2.imread(path2+'/imagesA2/3.jpg',0)\n",
    "img4 = cv2.imread(path2+'/imagesA2/4.jpg',0)\n",
    "img5 = cv2.imread(path2+'/imagesA2/5.jpg',0)\n",
    "img6 = cv2.imread(path2+'/imagesA2/6.jpg',0)\n",
    "img7 = cv2.imread(path2+'/imagesA2/7.jpg',0)\n",
    "img8 = cv2.imread(path2+'/imagesA2/8.jpg',0)\n",
    "# cv2.imshow('image1',img1)\n",
    "# cv2.imshow('image2',img2)\n",
    "# cv2.imshow('image3',img3)\n",
    "# cv2.imshow('image4',img4)\n",
    "# cv2.imshow('image5',img5)\n",
    "# cv2.imshow('image6',img6)\n",
    "# cv2.imshow('image7',img7)\n",
    "# cv2.imshow('image8',img8)\n",
    "# cv2.waitKey(0)\n",
    "# cv2.destroyAllWindows()"
   ]
  },
  {
   "cell_type": "code",
   "execution_count": 3,
   "metadata": {},
   "outputs": [],
   "source": [
    "# _, std1 = cv2.meanStdDev(img1)\n",
    "# _, std2 = cv2.meanStdDev(img2)\n",
    "# _, std3 = cv2.meanStdDev(img3)\n",
    "# _, std4 = cv2.meanStdDev(img4)\n",
    "# _, std5 = cv2.meanStdDev(img5)\n",
    "# _, std6 = cv2.meanStdDev(img6)\n",
    "# _, std7 = cv2.meanStdDev(img7)\n",
    "# _, std8 = cv2.meanStdDev(img8)\n",
    "# print(\"1- \" ,std1**2)\n",
    "# print(\"2- \",std2**2)\n",
    "# print(\"3- \",std3**2)\n",
    "# print(\"4- \",std4**2)\n",
    "# print(\"5- \",std5**2)\n",
    "# print(\"6- \",std6**2)\n",
    "# print(\"7- \",std7**2)\n",
    "# print(\"8- \",std8**2)\n",
    "\n"
   ]
  },
  {
   "cell_type": "code",
   "execution_count": 3,
   "metadata": {},
   "outputs": [
    {
     "name": "stdout",
     "output_type": "stream",
     "text": [
      "True\n"
     ]
    }
   ],
   "source": [
    "def valid(x,y, img):\n",
    "    if(x >= 0 and x < img.shape[0] and y >= 0 and y < img.shape[1]):\n",
    "        return True\n",
    "    else:\n",
    "        return False\n",
    "print(valid(0,0,img1))"
   ]
  },
  {
   "cell_type": "code",
   "execution_count": 4,
   "metadata": {},
   "outputs": [
    {
     "name": "stdout",
     "output_type": "stream",
     "text": [
      "calculating variance.\n"
     ]
    },
    {
     "name": "stderr",
     "output_type": "stream",
     "text": [
      "/usr/local/lib/python2.7/dist-packages/ipykernel_launcher.py:14: RuntimeWarning: overflow encountered in ubyte_scalars\n",
      "  \n"
     ]
    },
    {
     "name": "stdout",
     "output_type": "stream",
     "text": [
      "113521\n",
      "('Size', 2304000)\n",
      "4\n"
     ]
    }
   ],
   "source": [
    "#salt and pepper noise function\n",
    "dx = [-1, -1,-1, 0,1,1,0,1]\n",
    "dy = [-1, 0, 1, -1,1,0,1,-1]\n",
    "def pixel_variance(img, threshold):\n",
    "    noise_count = 0;\n",
    "    print(\"calculating variance.\")\n",
    "    for i in range (img.shape[0]):\n",
    "        for j in range (img.shape[1]):\n",
    "            acc = img[i,j]\n",
    "            count = 1\n",
    "            for k in range(0,8):\n",
    "                if(valid(i+dx[k],j+dy[k],img)):\n",
    "                    count+=1\n",
    "                    acc+= img[i+dx[k], j+dy[k]]\n",
    "            mean = acc/count\n",
    "            pixel_var = (img[i,j] - mean)**2\n",
    "            #print(pixel_var)\n",
    "            if(pixel_var > threshold**2):\n",
    "                noise_count+=1\n",
    "             \n",
    "    percentage = (noise_count*100)/(img.shape[0]*img.shape[1])\n",
    "    print(noise_count)  \n",
    "    print(\"Size\",(img.shape[0]*img.shape[1]))    \n",
    "    return percentage\n",
    "\n",
    "print(pixel_variance(img1,200))"
   ]
  },
  {
   "cell_type": "code",
   "execution_count": null,
   "metadata": {},
   "outputs": [],
   "source": [
    "\n",
    "print(pixel_variance(img2, 200))"
   ]
  },
  {
   "cell_type": "code",
   "execution_count": null,
   "metadata": {},
   "outputs": [],
   "source": [
    "#blur function\n",
    "sobel_horizontal = cv2.Sobel(img2, cv2.CV_64F, 1, 0, ksize=5)\n",
    "sobel_vertical = cv2.Sobel(img2, cv2.CV_64F, 0, 1, ksize=5)\n",
    "print(sobel_vertical)"
   ]
  },
  {
   "cell_type": "code",
   "execution_count": 46,
   "metadata": {},
   "outputs": [],
   "source": [
    "#color collapsing function\n",
    "def colorCollapsing(img,threshold):\n",
    "    minVal=999\n",
    "    maxVal=0\n",
    "    for i in range(img.shape[0]):\n",
    "        for j in range(img.shape[1]):\n",
    "            minVal = min(minVal,img[i,j])\n",
    "            maxVal=max(maxVal,img[i,j])\n",
    "    \n",
    "    percentage = ((maxVal-minVal+1)*100)/256\n",
    "    print(\"Percentage \",percentage)\n",
    "    if(percentage<threshold):\n",
    "        return True\n",
    "    else:\n",
    "        return False\n",
    "        \n",
    "            "
   ]
  },
  {
   "cell_type": "code",
   "execution_count": 53,
   "metadata": {},
   "outputs": [
    {
     "name": "stdout",
     "output_type": "stream",
     "text": [
      "('Percentage ', 100)\n"
     ]
    },
    {
     "data": {
      "text/plain": [
       "False"
      ]
     },
     "execution_count": 53,
     "metadata": {},
     "output_type": "execute_result"
    }
   ],
   "source": [
    "colorCollapsing(img8,50)\n",
    "# colorCollapsing(img1,50)"
   ]
  },
  {
   "cell_type": "code",
   "execution_count": 5,
   "metadata": {},
   "outputs": [],
   "source": [
    "#Correction:\n",
    "# 1- Noise Correction\n",
    "\n",
    "def noiseCorrection(correctedImgName,img):\n",
    "    \n",
    "    \n",
    "    print(\"in noise correction\")\n",
    "    height=img.shape[0]\n",
    "    width=img.shape[1]\n",
    "    blank_img = img\n",
    "    acc=0\n",
    "  \n",
    "    median=[]\n",
    "    for i in range (img.shape[0]):\n",
    "        for j in range (img.shape[1]):\n",
    "            median=[]                   \n",
    "            median.append(img[i,j])\n",
    "            \n",
    "            for k in range(0,len(dx)):\n",
    "                curX=i+dx[k]\n",
    "                curY=j+dy[k]\n",
    "                if(valid(curX,curY,img)):\n",
    "                    median.append(img[curX,curY])\n",
    "                    \n",
    "            median.sort()\n",
    "            if(len(median)%2!=0):\n",
    "                img[i,j]=median[len(median)/2]\n",
    "            else:\n",
    "                val = (median[len(median)/2]+median[len(median)/2]-1)/2\n",
    "                img[i,j]=val\n",
    "                \n",
    "            \n",
    "            \n",
    "    print(\"after\")\n",
    "    cv2.imshow(\"Corrected img\", img)\n",
    "    cv2.imwrite(correctedImgName,img) \n",
    "    cv2.waitKey(0)\n",
    "    cv2.destroyAllWindows()\n",
    "    \n",
    "         "
   ]
  },
  {
   "cell_type": "code",
   "execution_count": 6,
   "metadata": {
    "scrolled": true
   },
   "outputs": [
    {
     "name": "stdout",
     "output_type": "stream",
     "text": [
      "in noise correction\n"
     ]
    },
    {
     "name": "stderr",
     "output_type": "stream",
     "text": [
      "/usr/local/lib/python2.7/dist-packages/ipykernel_launcher.py:29: RuntimeWarning: overflow encountered in ubyte_scalars\n"
     ]
    },
    {
     "name": "stdout",
     "output_type": "stream",
     "text": [
      "after\n"
     ]
    }
   ],
   "source": [
    "# noiseCorrection(path2+'/imagesA2/img2NoiseCorrected.png',img2)   \n",
    "# noiseCorrection(path2+'/imagesA2/img3NoiseCorrected.png',img3)   \n",
    "# noiseCorrection(path2+'/imagesA2/img4NoiseCorrected.png',img4)   \n",
    "# noiseCorrection(path2+'/imagesA2/img5NoiseCorrected.png',img5)   \n",
    "# noiseCorrection(path2+'/imagesA2/img6NoiseCorrected.png',img6)  \n",
    "# noiseCorrection(path2+'/imagesA2/img7NoiseCorrected.png',img7)\n",
    "# noiseCorrection(path2+'/imagesA2/img8NoiseCorrected.png',img8)   "
   ]
  },
  {
   "cell_type": "code",
   "execution_count": 60,
   "metadata": {},
   "outputs": [],
   "source": [
    "#3 -color collapsing (using contrast stretching)\n",
    "def contrastStretching(correctedImgName,img):\n",
    "    minVal=999\n",
    "    maxVal=0\n",
    "    for i in range(img.shape[0]):\n",
    "        for j in range(img.shape[1]):\n",
    "            minVal=min(minVal,img[i,j])\n",
    "            maxVal=max(maxVal,img[i,j])\n",
    "            \n",
    "    for i in range(img.shape[0]):\n",
    "        for j in range(img.shape[1]):\n",
    "            img[i,j]= (img[i,j]-minVal)*(255/(maxVal-minVal))\n",
    "            \n",
    "    cv2.imshow(\"Corrected img\", img)\n",
    "    cv2.imwrite(correctedImgName,img) \n",
    "    cv2.waitKey(0)\n",
    "    cv2.destroyAllWindows()  "
   ]
  },
  {
   "cell_type": "code",
   "execution_count": 61,
   "metadata": {},
   "outputs": [],
   "source": [
    "contrastStretching(path2+'/imagesA2/img4ContrastStretchingCorrected.png',img4)\n",
    "contrastStretching(path2+'/imagesA2/img7ContrastStretchingCorrected.png',img7)"
   ]
  },
  {
   "cell_type": "code",
   "execution_count": null,
   "metadata": {},
   "outputs": [],
   "source": []
  }
 ],
 "metadata": {
  "kernelspec": {
   "display_name": "Python 2",
   "language": "python",
   "name": "python2"
  },
  "language_info": {
   "codemirror_mode": {
    "name": "ipython",
    "version": 2
   },
   "file_extension": ".py",
   "mimetype": "text/x-python",
   "name": "python",
   "nbconvert_exporter": "python",
   "pygments_lexer": "ipython2",
   "version": "2.7.12"
  }
 },
 "nbformat": 4,
 "nbformat_minor": 2
}
